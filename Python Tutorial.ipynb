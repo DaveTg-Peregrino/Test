{
 "cells": [
  {
   "cell_type": "markdown",
   "metadata": {},
   "source": [
    "# Python Beginner Tutorial"
   ]
  },
  {
   "cell_type": "markdown",
   "metadata": {},
   "source": [
    "## Data types"
   ]
  },
  {
   "cell_type": "markdown",
   "metadata": {},
   "source": [
    "str \"hello\" #string\n",
    "int 1 2 3 #integer\n",
    "float 1.2 3.4 #floating point number\n",
    "bool True False #boolean"
   ]
  },
  {
   "cell_type": "markdown",
   "metadata": {},
   "source": [
    "## Variables"
   ]
  },
  {
   "cell_type": "code",
   "execution_count": null,
   "metadata": {},
   "outputs": [],
   "source": [
    "x = 10\n",
    "y = \"20\"\n",
    "whatever = True\n",
    "\n",
    "y = int(y)  # To convert the string to an integer\n",
    "\n",
    "print(x + y)\n"
   ]
  },
  {
   "cell_type": "markdown",
   "metadata": {},
   "source": [
    "## Operators"
   ]
  },
  {
   "cell_type": "code",
   "execution_count": null,
   "metadata": {},
   "outputs": [],
   "source": [
    "+ #Sum\n",
    "- #Subtraction\n",
    "* #Multiplication\n",
    "/ #Division\n",
    "// #Floor Division\n",
    "% #Modulus\n",
    "** #Exponentiation\n",
    "\n",
    "## Comparison Operators\n",
    "== #Equal\n",
    "!= #Not Equal\n",
    "> #Greater than\n",
    "< #Less than\n",
    ">= #Greater than or equal to\n",
    "<= #Less than or equal to\n",
    "\n",
    "## Logical Operators\n",
    "and #And\n",
    "or #Or\n",
    "not #Not\n",
    "\n",
    "## Membership Operators\n",
    "in #In\n",
    "not in #Not in\n",
    "\n",
    "x = input(\"Enter a number: \")\n",
    "\n"
   ]
  },
  {
   "cell_type": "markdown",
   "metadata": {},
   "source": [
    "## Conditions and Statements"
   ]
  },
  {
   "cell_type": "code",
   "execution_count": null,
   "metadata": {},
   "outputs": [],
   "source": [
    "x = input(\"Enter a number: \")\n",
    "y = input(\"Enter another number: \")\n",
    "\n",
    "if x > y:\n",
    "    print(\"x is greater than y\")\n",
    "elif x == y:\n",
    "    print(\"x is equal to y\")\n",
    "else:\n",
    "    print(\"y is greater than x\")\n"
   ]
  },
  {
   "cell_type": "markdown",
   "metadata": {},
   "source": [
    "## Loops"
   ]
  },
  {
   "cell_type": "code",
   "execution_count": null,
   "metadata": {},
   "outputs": [],
   "source": [
    "# While loop\n",
    "x = 0\n",
    "while x < 10:\n",
    "    print(x)\n",
    "    x += 1\n",
    "\n",
    "while x < 10:\n",
    "    if x == 5:\n",
    "        break  # This breaks the loop when x is 5\n",
    "    print(x)\n",
    "    x += 1\n",
    "\n",
    "while x < 10:\n",
    "    if x == 5:\n",
    "        continue  # This skips the loop when x is 5\n",
    "    print(x)\n",
    "    x += 1\n",
    "\n",
    "# For loop\n",
    "for i in range(10):\n",
    "    print(i)\n",
    "\n",
    "for i in range(1, 10, 2):  # From 1 to 10, step 2\n",
    "    print(i)\n",
    "\n",
    "# For loop with a list\n",
    "for i in [1, 2, 3, 4, 5]:\n",
    "    print(i)\n",
    "\n",
    "for i in range(5):\n",
    "    if i == 2:\n",
    "        pass  # It does nothing, it just passes to the next iteration\n",
    "    print(i)\n"
   ]
  },
  {
   "cell_type": "markdown",
   "metadata": {},
   "source": [
    "## Sequences and collections"
   ]
  },
  {
   "cell_type": "code",
   "execution_count": null,
   "metadata": {},
   "outputs": [],
   "source": [
    "# Lists\n",
    "my_list = [1, 2, 3, 4, 5]  # It's possible to mix different types of data\n",
    "my_list.append(6)  # Adds an element to the list\n",
    "my_list.remove(3)  # Removes an element from the list by their value\n",
    "my_list.pop(3)  # Removes the element at index 3 by their index\n",
    "my_list.pop()  # Removes the last element from the list by their index\n",
    "my_list.pop(my_list.index(3))  # Removes the element at index 3 by their value\n",
    "my_list.sort()  # Sorts the list\n",
    "print(\n",
    "    sorted(my_list)\n",
    ")  # This is how to sort the list without changing the original list\n",
    "my_list.reverse()  # Reverses the list\n",
    "my_list[3] = 10  # This is how to change the value of an element\n",
    "my_list.insert(3, 10)  # This is how to insert an element at a specific position\n",
    "my_list.extend([6, 7, 8, 9, 10])  # This is how to extend the list\n",
    "my_list.count(\n",
    "    10\n",
    ")  # This is how to count the number of times an element appears in the list\n",
    "my_list.index(10)  # This is how to find the index of an element\n",
    "my_list.copy()  # This is how to copy the list\n",
    "my_list.clear()  # This is how to clear the list\n",
    "\n",
    "print(len(my_list))  # This is how to print the length of the list\n",
    "print(\n",
    "    max(my_list)\n",
    ")  # This is how to print the maximum value of the list (only works with numbers)\n",
    "print(\n",
    "    min(my_list)\n",
    ")  # This is how to print the minimum value of the list (only works with numbers)\n",
    "\n",
    "print(my_list[:3])  # This is how to print the first 3 elements of the list\n",
    "print(\n",
    "    my_list[3:]\n",
    ")  # This is how to print the elements from the 3rd position to the end of the list\n",
    "print(\n",
    "    my_list[3:6]\n",
    ")  # This is how to print the elements from the 3rd position to the 6th position\n",
    "print(my_list[::2])  # This is how to print the elements from the list with a step of 2\n",
    "print(\n",
    "    my_list[3:6:2]\n",
    ")  # This is how to print the elements from the 3rd position to the 6th position with a step of 2\n",
    "print(my_list[::-1])  # This is how to print the list in reverse order\n",
    "\n",
    "for x in my_list:\n",
    "    print(x)\n",
    "\n",
    "\n",
    "# Tuples\n",
    "my_tuple = (1, 2, 3, 4, 5)  # It's possible to mix different types of data\n",
    "my_tuple.append(6)  # This is not allowed because tuples are immutable\n",
    "\n",
    "# Dictionaries\n",
    "my_dict = {\"name\": \"John\", \"age\": 25}\n",
    "my_dict[\"NewKey\"] = \"NewValue\"  # This is how to add a new key to the dictionary\n",
    "my_dict[\"name\"] = \"Jane\"  # This is how to change the value of a key\n",
    "my_dict.pop(\"name\")  # Removes the element with the key \"name\"\n",
    "my_dict.popitem()  # Removes the last element\n",
    "my_dict.clear()  # Clears the dictionary\n",
    "\n",
    "print(my_dict.keys())  # This is how to print the keys of the dictionary\n",
    "print(my_dict.values())  # This is how to print the values of the dictionary\n",
    "print(my_dict.items())  # This is how to print the items of the dictionary\n",
    "\n",
    "# Sets\n",
    "my_set = {1, 2, 3, 4, 5}\n",
    "my_set.add(6)  # Adds an element to the set\n",
    "my_set.remove(3)  # Removes an element from the set\n",
    "my_set.pop()  # Removes the last element from the set\n",
    "my_set.clear()  # Clears the set\n"
   ]
  },
  {
   "cell_type": "markdown",
   "metadata": {},
   "source": [
    "## Functions"
   ]
  },
  {
   "cell_type": "code",
   "execution_count": null,
   "metadata": {},
   "outputs": [],
   "source": [
    "# A function is a block of code that is reusable and only runs when it is called.\n",
    "\n",
    "\n",
    "def my_function():\n",
    "    print(\"Hello\")\n",
    "\n",
    "\n",
    "my_function()  # This is how to call the function\n",
    "\n",
    "\n",
    "def add(x, y):\n",
    "    return x + y\n",
    "\n",
    "\n",
    "result = add(1, 2)\n",
    "print(result)  # This is how to call the function\n",
    "\n",
    "\n",
    "def mysum(\n",
    "    *numbers,\n",
    "):  # This is how to define a function that can take any number of arguments\n",
    "    result = 0\n",
    "\n",
    "    for number in numbers:\n",
    "        result += number\n",
    "\n",
    "    return result\n",
    "\n",
    "\n",
    "print(mysum(1, 2, 3, 4, 5))  # This is how to call the function"
   ]
  },
  {
   "cell_type": "markdown",
   "metadata": {},
   "source": [
    "## Exception handling"
   ]
  },
  {
   "cell_type": "code",
   "execution_count": null,
   "metadata": {},
   "outputs": [],
   "source": [
    "# This is used to handle errors in the code, to avoid the program from crashing\n",
    "\n",
    "try:\n",
    "    result = 10 / 0\n",
    "except ValueError:\n",
    "    print(\"Please enter a valid number\")\n",
    "except ZeroDivisionError:\n",
    "    print(\"Please don't divide by zero\")\n",
    "finally:\n",
    "    print(\"This will always be executed\")\n",
    "\n",
    "# This are the types of errors that can be handled:\n",
    "# SyntaxError: This is used to handle syntax errors\n",
    "# TypeError: This is used to handle type errors\n",
    "# ValueError: This is used to handle value errors\n",
    "# ZeroDivisionError: This is used to handle division by zero errors\n",
    "\n",
    "\n",
    "def some_function():\n",
    "    if condition:\n",
    "        raise Exception(\"This is a custom error\")\n",
    "\n",
    "\n",
    "x = 100\n",
    "y = 20\n",
    "\n",
    "assert x > y, (\n",
    "    \"x should be greater than y\"\n",
    ")  # Assert means that the condition should be true, if not, the error will be raised"
   ]
  },
  {
   "cell_type": "markdown",
   "metadata": {},
   "source": [
    "## File Operations"
   ]
  },
  {
   "cell_type": "code",
   "execution_count": null,
   "metadata": {},
   "outputs": [],
   "source": [
    "# How to open a file\n",
    "file = open(\"README.md\", \"w\")  # w is for writing, r is for reading, a is for appending\n",
    "\n",
    "# How to write to a file\n",
    "file.write(\"Hello\")  # this is going to replace the content of the file\n",
    "\n",
    "file.close()  # This is how to close the file. This will push the changes to the file.\n",
    "file.flush()  # If you don't want to close the file, you can use .flush() to push the changes to the file.\n",
    "\n",
    "# How to open a file and close it automatically\n",
    "with open(\"README.md\", \"r\") as file:\n",
    "    content = file.read()\n",
    "    print(content)\n",
    "\n",
    "# How to append to a file and close it automatically\n",
    "with open(\"README.md\", \"a\") as file:\n",
    "    content = file.write(\"Done via append command\")\n"
   ]
  },
  {
   "cell_type": "code",
   "execution_count": null,
   "metadata": {},
   "outputs": [],
   "source": [
    "# To manage files in a directory we need to import the os module\n",
    "import os\n",
    "\n",
    "os.rename(\"README.md\", \"README_2.md\")\n",
    "\n",
    "# to create a file in a specific directory\n",
    "os.chdir(\"New_Directory\")\n",
    "file = open(\"New_File.txt\", \"w\")\n",
    "file.write(\"Hello\")\n",
    "file.close()\n",
    "\n",
    "# To delete a file\n",
    "os.remove(\"README_2.md\")\n",
    "\n",
    "# To create a directory\n",
    "os.mkdir(\"New_Directory\")\n",
    "\n",
    "# To list the contents of a directory\n",
    "os.listdir()\n",
    "\n",
    "# To check if a file exists\n",
    "os.path.exists(\"README.md\")"
   ]
  },
  {
   "cell_type": "markdown",
   "metadata": {},
   "source": [
    "## String Operations"
   ]
  },
  {
   "cell_type": "code",
   "execution_count": null,
   "metadata": {},
   "outputs": [],
   "source": [
    "# We can think on a string as a sequence of characters\n",
    "\n",
    "text = \"Hello, World!\"\n",
    "text = \"Hello, World! \\nThis is a new line\"\n",
    "text = \"Hello, World! \\tThis is a tab\"\n",
    "text = \"Hello, World! \\rThis is a carriage return\"\n",
    "text = \"Hello, World! \\fThis is a form feed\"\n",
    "text = \"Hello, World! \\bThis is a backspace\"\n",
    "text = \"Hello, World! \\vThis is a vertical tab\"\n",
    "text = \"Hello, World! \\aThis is a bell\"\n",
    "\n",
    "\n",
    "print(text[2])  # This is how to print the character at index 2\n",
    "print(text[2:5])  # This is how to print the substring from index 2 to 5\n",
    "print(\n",
    "    text[2:]\n",
    ")  # This is how to print the substring from index 2 to the end of the string\n",
    "print(\n",
    "    text[:5]\n",
    ")  # This is how to print the substring from the start of the string to index 5\n",
    "print(\n",
    "    text[::2]\n",
    ")  # This is how to print the substring from the start of the string to the end with a step of 2\n",
    "print(\n",
    "    text[::-1]\n",
    ")  # This is how to print the substring from the end of the string to the start\n",
    "\n",
    "for letter in text:\n",
    "    print(letter)\n",
    "\n",
    "name = \"John\"\n",
    "age = 25\n",
    "\n",
    "print(\n",
    "    \"my name is \" + name + \" and I am \" + str(age) + \" years old\"\n",
    ")  # This is how to concatenate strings\n",
    "print(\n",
    "    \"my name is %s and I am %d years old\" % (name, age)\n",
    ")  # This is how to format strings\n",
    "print(\n",
    "    \"my name is {} and I am {} years old\".format(name, age)\n",
    ")  # This is how to format strings\n",
    "print(f\"my name is {name} and I am {age} years old\")  # This is how to format strings\n",
    "\n",
    "# Case manipulation functions\n",
    "print(len(text))  # This is how to print the length of the string\n",
    "\n",
    "\n",
    "print(text.upper())  # This is how to convert the text to uppercase\n",
    "print(text.lower())  # This is how to convert the text to lowercase\n",
    "print(text.capitalize())  # This is how to capitalize the first letter of the string\n",
    "print(text.title())  # This is how to convert the text to title case\n",
    "\n",
    "\n",
    "print(\n",
    "    text.replace(\"Hello\", \"Hi\")\n",
    ")  # This is how to replace a substring with another substring\n",
    "print(\n",
    "    text.count(\"Hello\")\n",
    ")  # This is how to count the number of times a substring appears in the string\n",
    "print(text.find(\"Hello\"))  # This is how to find the index of a substring\n",
    "\n",
    "separator = \";\"\n",
    "my_list = [\"apple\", \"banana\", \"cherry\"]\n",
    "print(separator.join(my_list))  # This is how to join a list of substrings into a string\n",
    "\n",
    "words = text.split(\" \")  # This is how to split the string into a list of substrings\n",
    "print(words)\n"
   ]
  },
  {
   "cell_type": "markdown",
   "metadata": {},
   "source": [
    "## Modules"
   ]
  },
  {
   "cell_type": "code",
   "execution_count": null,
   "metadata": {},
   "outputs": [],
   "source": [
    "# It's a way to organize code into reusable units.\n",
    "\n",
    "# To create a module, we need to create a file with the name of the module.\n",
    "# Then, we need to import the module into the file where we want to use it.\n",
    "\n",
    "import test\n",
    "\n",
    "result = test.sum_two_numbers(1, 2)\n",
    "print(result)\n"
   ]
  },
  {
   "cell_type": "markdown",
   "metadata": {},
   "source": [
    "# Python Intermediate Tutorial"
   ]
  },
  {
   "cell_type": "markdown",
   "metadata": {},
   "source": [
    "## Classes and Objects"
   ]
  },
  {
   "cell_type": "code",
   "execution_count": 1,
   "metadata": {},
   "outputs": [],
   "source": [
    "# A class is a blueprint for creating objects. It defines a set of attributes and methods\n",
    "# that the objects created from the class can have.\n",
    "# To create a class in Python, the keyword 'class' is used followed by the name of the class and a colon.\n",
    "# Then, the constructor of the class is defined using the special method '__init__', where the attributes of the object are initialized.\n",
    "\n",
    "# Ejemplo de creación de una clase:\n",
    "class MiClase:\n",
    "    def __init__(self, atributo1, atributo2):\n",
    "        self.atributo1 = atributo1\n",
    "        self.atributo2 = atributo2\n",
    "\n",
    "    def metodo(self):\n",
    "        return f\"Atributo 1: {self.atributo1}, Atributo 2: {self.atributo2}\"\n",
    "\n",
    "\n",
    "# Ejemplo de uso de una clase:\n",
    "class Person:\n",
    "    def __init__(self, name, age, id):  # This is the constructor of the class\n",
    "        self.name = name\n",
    "        self.age = age\n",
    "        self.__id = id  # This is a private attribute. This means that it is not accessible from outside the class.\n",
    "\n",
    "    # This is a method to get the private attribute\n",
    "    def get_id(self):\n",
    "        return self.__id\n",
    "\n",
    "    # This is a method to return a string representation of the object\n",
    "    def __str__(self):\n",
    "        return f\"Hello, my name is {self.name} and I am {self.age} years old\"\n",
    "\n",
    "    def get_older(self, years):\n",
    "        self.age += years\n"
   ]
  },
  {
   "cell_type": "markdown",
   "metadata": {},
   "source": [
    "## Inheritance"
   ]
  },
  {
   "cell_type": "code",
   "execution_count": 4,
   "metadata": {},
   "outputs": [],
   "source": [
    "# Inheritance is a fundamental concept in object-oriented programming that allows a class\n",
    "# (called a child or derived class) to inherit attributes and methods from another class\n",
    "# (called a parent or base class). This promotes code reusability and establishes a hierarchical\n",
    "# relationship between classes. In Python, inheritance is implemented by passing the parent class\n",
    "# as an argument to the child class definition.\n",
    "\n",
    "\n",
    "class Worker(Person):\n",
    "    def __init__(self, name, age, id, salary):\n",
    "        super(Worker, self).__init__(name, age, id)\n",
    "        self.salary = salary\n",
    "\n",
    "    def __str__(self):\n",
    "        text = super(Worker, self).__str__()\n",
    "        text += \". I earn {} per month\".format(self.salary)\n",
    "        return text\n",
    "\n",
    "    def calc_yearly_salary(self):\n",
    "        return self.salary * 12\n"
   ]
  },
  {
   "cell_type": "markdown",
   "metadata": {},
   "source": [
    "## Multithreading"
   ]
  },
  {
   "cell_type": "code",
   "execution_count": 6,
   "metadata": {},
   "outputs": [],
   "source": [
    "# Multithreading in Python is a form of concurrent programming in which a program can execute multiple threads or flows of execution concurrently, improving the overall processing speed of the program.\n",
    "\n",
    "# First, we need to import the library \"treading\"\n",
    "import threading\n",
    "\n",
    "\n",
    "def helloworld():\n",
    "    print(\"Hello World!\")\n",
    "\n",
    "\n",
    "tl = threading.Thread(target=helloworld)\n",
    "tl.start()\n",
    "# Here we create a variable, call the library, and use the \"Thread\" method to call the helloworld function, as the target.\n",
    "# Now, to run it, we use the method \"Start\"\n"
   ]
  },
  {
   "cell_type": "code",
   "execution_count": null,
   "metadata": {},
   "outputs": [],
   "source": [
    "# Another example:\n",
    "\n",
    "import threading\n",
    "\n",
    "\n",
    "def function1():\n",
    "    for x in range(50):\n",
    "        print(\"One\")\n",
    "\n",
    "\n",
    "def function2():\n",
    "    for x in range(50):\n",
    "        print(\"Two\")\n",
    "\n",
    "\n",
    "def hello():\n",
    "    for x in range(50):\n",
    "        print(\"Hello\")\n",
    "\n",
    "\n",
    "t1 = threading.Thread(target=function1)\n",
    "t2 = threading.Thread(target=function2)\n",
    "\n",
    "t1.start()\n",
    "t2.start()\n",
    "\n",
    "# Now, to wait for another thread to finish before running the next part of the code, we use the method \"join\"\n",
    "t1.join()\n",
    "t2.join()\n",
    "\n",
    "print(hello)"
   ]
  },
  {
   "cell_type": "markdown",
   "metadata": {},
   "source": [
    "## Syncronizing threads"
   ]
  },
  {
   "cell_type": "markdown",
   "metadata": {},
   "source": [
    "### Lock"
   ]
  },
  {
   "cell_type": "code",
   "execution_count": null,
   "metadata": {},
   "outputs": [],
   "source": [
    "import threading  # Importar el módulo threading para manejar hilos\n",
    "import time  # Importar el módulo time para usar sleep\n",
    "\n",
    "x = 8192  # Variable global que será modificada por los hilos\n",
    "\n",
    "lock = (\n",
    "    threading.Lock()\n",
    ")  # Crear un objeto Lock para sincronizar el acceso a la variable x\n",
    "\n",
    "\n",
    "def double():\n",
    "    global x, lock  # Acceder a la variable global x y al Lock\n",
    "\n",
    "    lock.acquire()  # Adquirir el Lock para asegurar el acceso exclusivo a x\n",
    "    while x < 16384:  # Mientras x sea menor que 16384\n",
    "        x *= 2  # Duplicar el valor de x\n",
    "        print(x)  # Imprimir el nuevo valor de x\n",
    "        time.sleep(\n",
    "            1\n",
    "        )  # Esperar 1 segundo (solo para visualización, no es necesario para la lógica)\n",
    "\n",
    "    print(\"Reached the maximum!\")  # Mensaje cuando se alcanza el máximo\n",
    "    lock.release()  # Liberar el Lock para permitir que otros hilos accedan a x\n",
    "\n",
    "\n",
    "def halve():\n",
    "    global x, lock  # Acceder a la variable global x y al Lock\n",
    "\n",
    "    lock.acquire()  # Adquirir el Lock para asegurar el acceso exclusivo a x\n",
    "    while x > 1:  # Mientras x sea mayor que 1\n",
    "        x /= 2  # Reducir a la mitad el valor de x\n",
    "        print(x)  # Imprimir el nuevo valor de x\n",
    "        time.sleep(\n",
    "            1\n",
    "        )  # Esperar 1 segundo (solo para visualización, no es necesario para la lógica)\n",
    "\n",
    "    print(\"Reached the minimum!\")  # Mensaje cuando se alcanza el mínimo\n",
    "    lock.release()  # Liberar el Lock para permitir que otros hilos accedan a x\n",
    "\n",
    "\n",
    "# Crear dos hilos: uno para la función halve y otro para la función double\n",
    "t1 = threading.Thread(target=halve)\n",
    "t2 = threading.Thread(target=double)\n",
    "\n",
    "# Iniciar los hilos\n",
    "t1.start()\n",
    "t2.start()\n"
   ]
  },
  {
   "cell_type": "markdown",
   "metadata": {},
   "source": [
    "### Semaphore"
   ]
  },
  {
   "cell_type": "code",
   "execution_count": null,
   "metadata": {},
   "outputs": [],
   "source": [
    "# What we are doing next is to create a semaphore that allows a maximum of 5 threads to access a certain resource at the same time.\n",
    "# We then create a function access that tries to acquire the semaphore and print a message when it is granted access.\n",
    "# We then create 10 threads that call the function access with a different argument each.\n",
    "# Finally, we start all the threads and wait for 1 second.\n",
    "\n",
    "import threading\n",
    "import time\n",
    "\n",
    "semaphore = threading.BoundedSemaphore(value=5)\n",
    "\n",
    "\n",
    "def access(thread_number):\n",
    "    print(\"{} is trying to access!\".format(thread_number))\n",
    "    semaphore.acquire()\n",
    "    print(\"{} was granted access!\".format(thread_number))\n",
    "    time.sleep(10)\n",
    "    print(\"{} is now releasing!\".format(thread_number))\n",
    "    semaphore.release()\n",
    "\n",
    "\n",
    "for thread_number in range(1, 11):\n",
    "    t = threading.Thread(target=access, args=(thread_number,))\n",
    "\n",
    "t.start()\n",
    "time.sleep(1)\n"
   ]
  },
  {
   "cell_type": "markdown",
   "metadata": {},
   "source": [
    "## Events and Daemon threads"
   ]
  },
  {
   "cell_type": "code",
   "execution_count": null,
   "metadata": {},
   "outputs": [],
   "source": [
    "# Events\n",
    "\n",
    "import threading\n",
    "\n",
    "event = threading.Event()\n",
    "\n",
    "\n",
    "def myfunction():\n",
    "    print(\"Waiting for event to trigger...\\n\")\n",
    "    event.wait()  # Blocks the thread\n",
    "    print(\"Performing action XYZ now...\")\n",
    "\n",
    "\n",
    "t1 = threading.Thread(target=myfunction)\n",
    "t1.start()\n",
    "\n",
    "x = input(\"Do you want to trigger the event? (y/n)\\n\")\n",
    "if x == \"y\":\n",
    "    event.set()  # Release the thread\n"
   ]
  },
  {
   "cell_type": "code",
   "execution_count": null,
   "metadata": {},
   "outputs": [],
   "source": [
    "# Daemon threads\n",
    "\n",
    "import threading\n",
    "import time\n",
    "\n",
    "path = \"text.txt\"\n",
    "text = \"\"\n",
    "\n",
    "\n",
    "def readFile():\n",
    "    global text\n",
    "\n",
    "    while True:\n",
    "        with open(\"text.txt\", \"r\") as f:\n",
    "            text = f.read()\n",
    "        time.sleep(3)\n",
    "\n",
    "\n",
    "def printloop():\n",
    "    for x in range(30):\n",
    "        print(text)\n",
    "        time.sleep(1)\n",
    "\n",
    "\n",
    "t1 = threading.Thread(target=readFile, daemon=True)\n",
    "t2 = threading.Thread(target=printloop)\n",
    "\n",
    "t1.start\n",
    "t2.start"
   ]
  },
  {
   "cell_type": "markdown",
   "metadata": {},
   "source": [
    "## Queues"
   ]
  },
  {
   "cell_type": "code",
   "execution_count": null,
   "metadata": {},
   "outputs": [],
   "source": [
    "import queue\n",
    "\n",
    "q = queue.Queue()\n",
    "\n",
    "numbers = [10, 20, 30, 40, 50, 60, 70]\n",
    "\n",
    "for number in numbers:\n",
    "    q.put(number)\n",
    "\n",
    "print(q.get())\n",
    "print(q.get())"
   ]
  },
  {
   "cell_type": "code",
   "execution_count": null,
   "metadata": {},
   "outputs": [],
   "source": [
    "import queue\n",
    "\n",
    "q=queue.LifoQueue()\n",
    "\n",
    "numbers = [1,2,3,4,5,6,7]\n",
    "\n",
    "for x in numbers:\n",
    "    1.put(x)\n",
    "\n",
    "print(q.get())"
   ]
  },
  {
   "cell_type": "code",
   "execution_count": null,
   "metadata": {},
   "outputs": [],
   "source": [
    "import queue\n",
    "\n",
    "q = queue.PriorityQueue\n",
    "q.put((2, \"hello world\"))\n",
    "q.put((11, 99))\n",
    "q.put((5, 7.5))\n",
    "q.put((1, True))\n",
    "\n",
    "while not q.empty():\n",
    "    print(q.get())"
   ]
  },
  {
   "cell_type": "markdown",
   "metadata": {},
   "source": [
    "## Sockets and Network programming"
   ]
  },
  {
   "cell_type": "code",
   "execution_count": null,
   "metadata": {},
   "outputs": [],
   "source": [
    "\"\"\"\n",
    "Sockets are endpoints for communication between two devices (computer, phone, etc) in a network.\n",
    "They are used to send and receive data.\n",
    "The socket is composed of two parts: the IP address and the port number.\n",
    "The IP address identifies the device and the port number identifies the process running on that device.\n",
    "\"\"\"\n",
    "\n",
    "import socket\n",
    "\n",
    "# Now, we have to answer four questions:\n",
    "# 1. Internet socket or unix socket? Easy one, Internet socket\n",
    "# 2. What kind of protocol (UCP or TCP)? UCP is for sensible data and UDP is faster than TCP. Here, TCP\n",
    "# 3. Which IP are we going to use?\n",
    "# 4. Which port are we going to use?\n",
    "\n",
    "s = socket.socket(socket.AF_INET, socket.SOCK_STREAM)  # This is TCP. UDP is SOCK_DGRAM\n",
    "s.bind((\"l27.0.0.1\", 55555))  # localhost, port\n",
    "s.listen()\n",
    "\n",
    "while True:\n",
    "    client, address = s.accept()\n",
    "    print(\"Connected to {}\".format(address))\n",
    "    client.send(\"You are connected!\".enconde())\n",
    "    client.close()\n"
   ]
  },
  {
   "cell_type": "code",
   "execution_count": null,
   "metadata": {},
   "outputs": [],
   "source": [
    "# Now, another script for the client\n",
    "\n",
    "import socket\n",
    "\n",
    "s = socket.socket(socket.AF_INET, socket.SOCK_STREAM)\n",
    "s.connect((\"127.0.0.1\", 55555))\n",
    "\n",
    "message = s.recv(1024)\n",
    "s.close()\n",
    "\n",
    "print(message.decode())\n"
   ]
  },
  {
   "cell_type": "markdown",
   "metadata": {},
   "source": [
    "## Database programming"
   ]
  },
  {
   "cell_type": "code",
   "execution_count": null,
   "metadata": {},
   "outputs": [],
   "source": [
    "import sqlite3\n",
    "\n",
    "# Create connection to database\n",
    "connection = sqlite3.connect(\"mydata.db\")\n",
    "\n",
    "cursor = connection.cursor()  # This is need to work with the database\n",
    "\n",
    "cursor.execute(\"\"\"\n",
    "CREATE TABLE IF NOT EXISTS persons (\n",
    "    first_name TEXT,\n",
    "    last_name TEXT,\n",
    "    age INTEGER\n",
    ")\n",
    "\"\"\")\n",
    "\n",
    "cursor.execute(\"\"\"\n",
    "INSERT INTO persons VALUES\n",
    "    ('Paul', 'Smith', 24),\n",
    "    ('Mark', 'Johnson', 32),\n",
    "    ('Anna', 'Smith' , 34)\n",
    "\"\"\")\n",
    "\n",
    "cursor.execute(\"\"\"\n",
    "SELECT * FROM persons\n",
    "WHERE last_name = 'Smith'\n",
    "\"\"\")\n",
    "\n",
    "\n",
    "rows = cursor.fetchall()\n",
    "print(rows)\n",
    "\n",
    "connection.commit  # used to commit the query to the database\n",
    "\n",
    "connection.close\n"
   ]
  },
  {
   "cell_type": "code",
   "execution_count": 7,
   "metadata": {},
   "outputs": [
    {
     "ename": "OperationalError",
     "evalue": "no such column: id",
     "output_type": "error",
     "traceback": [
      "\u001b[31m---------------------------------------------------------------------------\u001b[39m",
      "\u001b[31mOperationalError\u001b[39m                          Traceback (most recent call last)",
      "\u001b[36mCell\u001b[39m\u001b[36m \u001b[39m\u001b[32mIn[7]\u001b[39m\u001b[32m, line 31\u001b[39m\n\u001b[32m     27\u001b[39m         \u001b[38;5;28mself\u001b[39m.age = results[\u001b[32m3\u001b[39m]\n\u001b[32m     30\u001b[39m p1 = Person()\n\u001b[32m---> \u001b[39m\u001b[32m31\u001b[39m \u001b[43mp1\u001b[49m\u001b[43m.\u001b[49m\u001b[43mload_person\u001b[49m\u001b[43m(\u001b[49m\u001b[32;43m1\u001b[39;49m\u001b[43m)\u001b[49m\n\u001b[32m     32\u001b[39m \u001b[38;5;28mprint\u001b[39m(p1.first)\n\u001b[32m     33\u001b[39m \u001b[38;5;28mprint\u001b[39m(p1.last)\n",
      "\u001b[36mCell\u001b[39m\u001b[36m \u001b[39m\u001b[32mIn[7]\u001b[39m\u001b[32m, line 17\u001b[39m, in \u001b[36mPerson.load_person\u001b[39m\u001b[34m(self, id_number)\u001b[39m\n\u001b[32m     16\u001b[39m \u001b[38;5;28;01mdef\u001b[39;00m\u001b[38;5;250m \u001b[39m\u001b[34mload_person\u001b[39m(\u001b[38;5;28mself\u001b[39m, id_number):\n\u001b[32m---> \u001b[39m\u001b[32m17\u001b[39m     \u001b[38;5;28;43mself\u001b[39;49m\u001b[43m.\u001b[49m\u001b[43mcursor\u001b[49m\u001b[43m.\u001b[49m\u001b[43mexecute\u001b[49m\u001b[43m(\u001b[49m\u001b[33;43m\"\"\"\u001b[39;49m\n\u001b[32m     18\u001b[39m \u001b[33;43m    SELECT * FROM persons\u001b[39;49m\n\u001b[32m     19\u001b[39m \u001b[33;43m    WHERE id = \u001b[39;49m\u001b[38;5;132;43;01m{}\u001b[39;49;00m\n\u001b[32m     20\u001b[39m \u001b[33;43m    \u001b[39;49m\u001b[33;43m\"\"\"\u001b[39;49m\u001b[43m.\u001b[49m\u001b[43mformat\u001b[49m\u001b[43m(\u001b[49m\u001b[43mid_number\u001b[49m\u001b[43m)\u001b[49m\u001b[43m)\u001b[49m\n\u001b[32m     22\u001b[39m     results = \u001b[38;5;28mself\u001b[39m.cursor.fetchone()\n\u001b[32m     24\u001b[39m     \u001b[38;5;28mself\u001b[39m.id_number = id_number\n",
      "\u001b[31mOperationalError\u001b[39m: no such column: id"
     ]
    }
   ],
   "source": [
    "# Now, we can merge Object Oriented Programming with databases\n",
    "\n",
    "import sqlite3\n",
    "\n",
    "\n",
    "class Person:\n",
    "    def __init__(self, id_number=-1, first=\"\", last=\"\", age=-1):\n",
    "        self.id_number = id_number\n",
    "        self.first = first\n",
    "        self.last = last\n",
    "        self.age = age\n",
    "\n",
    "        self.connection = sqlite3.connect(\"mydata.db\")\n",
    "        self.cursor = self.connection.cursor()  # This is need to work with the database\n",
    "\n",
    "    def load_person(self, id_number):\n",
    "        self.cursor.execute(\"\"\"\n",
    "        SELECT * FROM persons\n",
    "        WHERE id = {}\n",
    "        \"\"\".format(id_number))\n",
    "\n",
    "        results = self.cursor.fetchone()\n",
    "\n",
    "        self.id_number = id_number\n",
    "        self.firts = results[1]\n",
    "        self.last = results[2]\n",
    "        self.age = results[3]\n",
    "\n",
    "\n",
    "p1 = Person()\n",
    "p1.load_person(1)\n",
    "print(p1.first)\n",
    "print(p1.last)\n",
    "print(p1.age)\n",
    "print(p1.id_number)\n"
   ]
  }
 ],
 "metadata": {
  "kernelspec": {
   "display_name": "Python 3",
   "language": "python",
   "name": "python3"
  },
  "language_info": {
   "codemirror_mode": {
    "name": "ipython",
    "version": 3
   },
   "file_extension": ".py",
   "mimetype": "text/x-python",
   "name": "python",
   "nbconvert_exporter": "python",
   "pygments_lexer": "ipython3",
   "version": "3.13.2"
  }
 },
 "nbformat": 4,
 "nbformat_minor": 2
}
